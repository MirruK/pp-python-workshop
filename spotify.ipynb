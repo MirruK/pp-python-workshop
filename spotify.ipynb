{
 "cells": [
  {
   "cell_type": "code",
   "execution_count": null,
   "id": "3468f0d3-f9d1-4e4b-ab00-ab6786f0a99c",
   "metadata": {},
   "outputs": [],
   "source": [
    "import pandas as pd\n",
    "import matplotlib.pyplot as plt\n",
    "import seaborn as sns\n",
    "\n",
    "df = pd.read_csv(\"listeners.csv\")\n",
    "df2 = pd.read_csv(\"train.csv\")\n"
   ]
  },
  {
   "cell_type": "code",
   "execution_count": 7,
   "id": "61dbc730",
   "metadata": {},
   "outputs": [],
   "source": [
    "\n",
    "# Set higher DPI for better resolution\n",
    "plt.rcParams['figure.dpi'] = 150  # You can adjust the value (e.g., 150, 200, etc.)"
   ]
  },
  {
   "cell_type": "markdown",
   "id": "176b06f9",
   "metadata": {},
   "source": [
    "## Questions:\n",
    "\n",
    "1. What genres of music do the most popular artists typically produce?\n",
    "2. Is there a correlation between \"danceability\" and popularity?\n",
    "3. Similarly, how does song duration correlate with popularity?\n",
    "4. Print the most consistently listened to albums\n",
    "5. Conversely, print albums with \"one hit wonders\", where only one or few songs are popular\n",
    "6. Identify \"one-hit wonders\" by looking at songs whose popularity is very different from the artist's mean popularity"
   ]
  },
  {
   "cell_type": "code",
   "execution_count": 3,
   "id": "d290ed2b-7cb5-4ff4-9bd5-d77302c9fc17",
   "metadata": {},
   "outputs": [],
   "source": [
    "df2 = df2[df2[\"artists\"].apply(lambda x: isinstance(x, str))]\n",
    "df2[\"artists\"] = df2[\"artists\"].apply(lambda x: x.split(\";\"))"
   ]
  },
  {
   "cell_type": "code",
   "execution_count": 12,
   "id": "ff84e09b",
   "metadata": {},
   "outputs": [
    {
     "name": "stdout",
     "output_type": "stream",
     "text": [
      "{'J Balvin': track_genre\n",
      "reggaeton     127\n",
      "latino        126\n",
      "reggae        113\n",
      "latin         101\n",
      "dance           8\n",
      "electronic      8\n",
      "edm             7\n",
      "electro         7\n",
      "pop             5\n",
      "dancehall       3\n",
      "funk            3\n",
      "hip-hop         1\n",
      "pagode          1\n",
      "Name: count, dtype: int64, 'Bad Bunny': track_genre\n",
      "latino       121\n",
      "reggaeton    114\n",
      "reggae        90\n",
      "latin         73\n",
      "hip-hop       15\n",
      "dance          2\n",
      "salsa          1\n",
      "Name: count, dtype: int64, 'Daddy Yankee': track_genre\n",
      "latino               87\n",
      "reggaeton            80\n",
      "reggae               72\n",
      "latin                69\n",
      "hip-hop              53\n",
      "progressive-house     3\n",
      "electro               3\n",
      "dancehall             2\n",
      "j-dance               2\n",
      "hardcore              1\n",
      "edm                   1\n",
      "house                 1\n",
      "pop                   1\n",
      "Name: count, dtype: int64, 'Wolfgang Amadeus Mozart': track_genre\n",
      "classical    354\n",
      "Name: count, dtype: int64, 'Feid': track_genre\n",
      "latino       79\n",
      "reggaeton    75\n",
      "reggae       71\n",
      "latin        69\n",
      "pop          54\n",
      "Name: count, dtype: int64}\n"
     ]
    }
   ],
   "source": [
    "#print(df2.tail(100))\n",
    "# Group rows by artist\n",
    "grouped_df2 = df2.explode(\"artists\").groupby(\"artists\")\n",
    "# Count number of rows and sort in descending order\n",
    "grouped_df2_count = grouped_df2.size().reset_index(name='count').sort_values(by=\"count\", ascending=False)\n",
    "# Count how many songs of different genres the top 5 artists have produced\n",
    "top_5_artists = grouped_df2_count.head(5)[\"artists\"]\n",
    "top_5_genres = {artist: grouped_df2.get_group(artist)[\"track_genre\"].value_counts() for artist in top_5_artists}\n",
    "print(top_5_genres)\n",
    "#the_weeknd_genres = grouped_df2.get_group(\"The Weeknd\")[\"track_genre\"].value_counts()\n",
    "\n",
    "#sns.barplot(x=the_weeknd_genres.index, y=the_weeknd_genres.values)\n",
    "#plt.xticks(rotation=45)"
   ]
  },
  {
   "cell_type": "code",
   "execution_count": 14,
   "id": "cf08ea1d-5e8c-49c6-a30e-9bb006813193",
   "metadata": {},
   "outputs": [],
   "source": [
    "#sns.barplot(data=cleaned)"
   ]
  },
  {
   "cell_type": "code",
   "execution_count": null,
   "id": "97167dff-2565-416e-83db-2d86a7e014ed",
   "metadata": {},
   "outputs": [],
   "source": []
  }
 ],
 "metadata": {
  "kernelspec": {
   "display_name": "Python 3 (ipykernel)",
   "language": "python",
   "name": "python3"
  },
  "language_info": {
   "codemirror_mode": {
    "name": "ipython",
    "version": 3
   },
   "file_extension": ".py",
   "mimetype": "text/x-python",
   "name": "python",
   "nbconvert_exporter": "python",
   "pygments_lexer": "ipython3",
   "version": "3.13.2"
  }
 },
 "nbformat": 4,
 "nbformat_minor": 5
}
